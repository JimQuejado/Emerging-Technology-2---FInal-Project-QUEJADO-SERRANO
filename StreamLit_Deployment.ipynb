{
  "nbformat": 4,
  "nbformat_minor": 0,
  "metadata": {
    "colab": {
      "provenance": [],
      "authorship_tag": "ABX9TyOfKtC/Z+Dvm+8a7uXsCgfo",
      "include_colab_link": true
    },
    "kernelspec": {
      "name": "python3",
      "display_name": "Python 3"
    },
    "language_info": {
      "name": "python"
    }
  },
  "cells": [
    {
      "cell_type": "markdown",
      "metadata": {
        "id": "view-in-github",
        "colab_type": "text"
      },
      "source": [
        "<a href=\"https://colab.research.google.com/github/JimQuejado/Emerging-Technology-2---FInal-Project-QUEJADO-SERRANO/blob/main/StreamLit_Deployment.ipynb\" target=\"_parent\"><img src=\"https://colab.research.google.com/assets/colab-badge.svg\" alt=\"Open In Colab\"/></a>"
      ]
    },
    {
      "cell_type": "markdown",
      "source": [
        "# **CPE019 : FINAL PROJECT MODEL DEPLOYMENT**\n",
        "\n",
        "\n",
        "---\n",
        "\n",
        "\n",
        "**Name:** **QUEJADO**,  Jimlord M. & **SERRANO**, Jio <br>\n",
        "**Course and Section:** CPE019-CPE32S3 <br>\n",
        "**Date of Submission**: May 18, 2024<br>\n",
        "**Instructor:** Engr. Roman Richard<br>\n",
        "\n",
        "---\n",
        "\n",
        "\n"
      ],
      "metadata": {
        "id": "2BVmxs1zvpbH"
      }
    },
    {
      "cell_type": "markdown",
      "source": [
        "## **Link of the deployed model:**\n",
        "-  https://chesspiecesidentifier-mhufbx5w.streamlit.app"
      ],
      "metadata": {
        "id": "vBYnEp2k58Lk"
      }
    },
    {
      "cell_type": "markdown",
      "source": [
        "## **Importing Libraries**"
      ],
      "metadata": {
        "id": "99TR7rZ9zhck"
      }
    },
    {
      "cell_type": "markdown",
      "source": [
        "The following dependencies are imported and used to create a web app."
      ],
      "metadata": {
        "id": "qTXA_d1M3JNB"
      }
    },
    {
      "cell_type": "code",
      "execution_count": null,
      "metadata": {
        "id": "OvbRfg5WrOMB"
      },
      "outputs": [],
      "source": [
        "import streamlit as st\n",
        "import tensorflow as tf\n",
        "from PIL import Image, ImageOps\n",
        "import numpy as np"
      ]
    },
    {
      "cell_type": "markdown",
      "source": [
        "## **Setting the page configuration**"
      ],
      "metadata": {
        "id": "wD6tRRJXzlNt"
      }
    },
    {
      "cell_type": "markdown",
      "source": [
        "In this section, the page configuration was done. The tab icon showing it was modified with the indicated page title and page icon. The sidebar state was also set to auto so that if the app was viewed in mobile, it will changed automatically making it more visually appealing."
      ],
      "metadata": {
        "id": "TkjwmXXy2oqD"
      }
    },
    {
      "cell_type": "code",
      "source": [
        "#Setting the page configuration\n",
        "st.set_page_config(\n",
        "    page_title=\"Chess Piece\",\n",
        "    page_icon=\"♟️\",\n",
        "    initial_sidebar_state = 'auto'\n",
        ")\n"
      ],
      "metadata": {
        "id": "1AXaV4QYrSWQ"
      },
      "execution_count": null,
      "outputs": []
    },
    {
      "cell_type": "markdown",
      "source": [
        "## **Loading the Model**"
      ],
      "metadata": {
        "id": "bN4w7u7czpye"
      }
    },
    {
      "cell_type": "markdown",
      "source": [
        "In this section the model was loaded. The decorator to cache functions that return global resources. This helps in ensuring that the model wil only load once and not repeatedly throughout the runtime of the web app."
      ],
      "metadata": {
        "id": "-eMdpOZU2aJL"
      }
    },
    {
      "cell_type": "code",
      "source": [
        "\n",
        "# for model loading\n",
        "st.set_option('deprecation.showfileUploaderEncoding', False)\n",
        "\n",
        "@st.cache_resource\n",
        "def load_model():\n",
        "    model = tf.keras.models.load_model('Chess_model.h5')\n",
        "    return model\n",
        "\n",
        "with st.spinner('Model is being loaded..'):\n",
        "    model = load_model()\n",
        "\n"
      ],
      "metadata": {
        "id": "kG8yIPOIrUzB"
      },
      "execution_count": null,
      "outputs": []
    },
    {
      "cell_type": "markdown",
      "source": [
        "## **Adding some CSS Styles**"
      ],
      "metadata": {
        "id": "Q2gQPFHCzxLY"
      }
    },
    {
      "cell_type": "markdown",
      "source": [
        "This following CSS styling added some design such as customized backdrops, sidebar animation and header modifications."
      ],
      "metadata": {
        "id": "XxPsEcrI2Ef0"
      }
    },
    {
      "cell_type": "code",
      "source": [
        "\n",
        "#Preparing the backdrops\n",
        "page_bg_img = '''\n",
        "    <style>\n",
        "        [data-testid=\"stAppViewContainer\"] {\n",
        "            background-image: url(\"https://cdn.pixabay.com/photo/2017/09/08/20/29/chess-2730034_1280.jpg\");\n",
        "            background-size: cover;\n",
        "            }\n",
        "\n",
        "        [data-testid=\"stHeader\"] {\n",
        "           background-color: rgba(0,0,0,0);\n",
        "\n",
        "        [data-testid=\"stSidebarContent\"] {\n",
        "            background-color: rgba(38,39,48,.3);\n",
        "            transition: all 0.5s ease;\n",
        "        }\n",
        "\n",
        "    </style>\n",
        "'''\n",
        "\n",
        "st.markdown(page_bg_img, unsafe_allow_html=True)\n",
        "\n"
      ],
      "metadata": {
        "id": "PnYZ_Z0LrXDQ"
      },
      "execution_count": null,
      "outputs": []
    },
    {
      "cell_type": "markdown",
      "source": [
        "## **Creating file loading / upload area**"
      ],
      "metadata": {
        "id": "xkzoaRtsz0Zc"
      }
    },
    {
      "cell_type": "markdown",
      "source": [
        "The following code will create a file uploader section where users can choose what type of image they want to upload as long as it is a jpg or png format."
      ],
      "metadata": {
        "id": "TvDIyszq18CY"
      }
    },
    {
      "cell_type": "code",
      "source": [
        "#for predicting the model\n",
        "file = st.file_uploader(\"\", type=[\"jpg\", \"png\"])\n",
        "data = np.ndarray(shape=(1, 224, 224, 3), dtype=np.float32)"
      ],
      "metadata": {
        "id": "-3KUClLjrZvs"
      },
      "execution_count": null,
      "outputs": []
    },
    {
      "cell_type": "markdown",
      "source": [
        "## **Function for Importing the Image**"
      ],
      "metadata": {
        "id": "wZ7tP6lw0Fji"
      }
    },
    {
      "cell_type": "markdown",
      "source": [
        "In this function, the image was imported from the user upload. The image was preprocessed before passed on the model prediction. After this, the function will return a prediction."
      ],
      "metadata": {
        "id": "BzS7cNAf1vCa"
      }
    },
    {
      "cell_type": "code",
      "source": [
        "def import_and_predict(image_data, model):\n",
        "    size = (224, 224)\n",
        "    image = ImageOps.fit(image_data, size, Image.Resampling.LANCZOS)\n",
        "    image_array = np.asarray(image)\n",
        "    normalized_image_array = (image_array.astype(np.float32) / 127.5) - 1\n",
        "    data[0] = normalized_image_array\n",
        "    prediction = model.predict(data)\n",
        "    return prediction"
      ],
      "metadata": {
        "id": "f3P3DPOh0F6p"
      },
      "execution_count": null,
      "outputs": []
    },
    {
      "cell_type": "markdown",
      "source": [
        "## **Adding Deatils and Side Bar Setup**"
      ],
      "metadata": {
        "id": "g1tGgy-S0Jiq"
      }
    },
    {
      "cell_type": "markdown",
      "source": [
        "In this block of code, it simply added a basic UI details of the side bar. There is an if condition at the last part of the code indicating that if no files are yet uploaded, then the indicated link will be played."
      ],
      "metadata": {
        "id": "ThnLNBxt1jDC"
      }
    },
    {
      "cell_type": "code",
      "source": [
        "#header name (center)\n",
        "st.write(\"# Chess Piece Identification\")\n",
        "\n",
        "#Side bar Setup\n",
        "with st.sidebar:\n",
        "\n",
        "    st.write(\"# Chess\")\n",
        "    st.markdown(\"\"\"<div style=\"text-align: justify;\">\n",
        "              A two-player strategy board game played on a checkered board,\n",
        "              where each player starts with sixteen pieces. The pieces are\n",
        "              moved and used to capture the opponent's pieces following\n",
        "              specific rules.\n",
        "              </div>\"\"\", unsafe_allow_html=True)\n",
        "    st.write(\"\")\n",
        "    st.write(\"\")\n",
        "\n",
        "    if file is None:\n",
        "       url='https://www.youtube.com/watch?v=PSzQw1AnvCE&t=0s'\n",
        "       st.video(url, loop=True, autoplay=True, muted=False)\n",
        "\n",
        "\n",
        "\n"
      ],
      "metadata": {
        "id": "MaaHDUBlrkT1"
      },
      "execution_count": null,
      "outputs": []
    },
    {
      "cell_type": "markdown",
      "source": [
        "## **Adding Labels**"
      ],
      "metadata": {
        "id": "X2Dkvykj0Pu_"
      }
    },
    {
      "cell_type": "markdown",
      "source": [
        "In the following cells the label of the predictions are done.\n",
        "\n",
        "The first if block statement will print in the main body. `Please upload an image file`\n",
        "\n",
        "After that, labels are created. Classnames were defined and therespective info were added. After that, video links are also added in each class label for visualization and indepth guide.\n",
        "\n",
        "\n",
        "After that, the sidebar UI was created. Title of the sidebar, piece detected and the corresponding information are shown in this section."
      ],
      "metadata": {
        "id": "rWuf_P0z0i8z"
      }
    },
    {
      "cell_type": "code",
      "source": [
        "if file is None:\n",
        "    st.text(\"Please upload an image file\")\n",
        "\n",
        "\n",
        "else:\n",
        "    #predicting\n",
        "    image = Image.open(file)\n",
        "    st.image(image, use_column_width=True)\n",
        "    predictions = import_and_predict(image, model)\n",
        "\n",
        "    #Labels\n",
        "    class_names = [\"Bishop\", \"King\", \"Knight\", \"Pawn\", \"Queen\", \"Rook\"]\n",
        "\n",
        "    info = {\n",
        "        'Bishop': \"The bishop moves diagonally any number of squares. It is particularly powerful on open diagonals.\",\n",
        "        'King': \"The king moves one square in any direction. It is the most important piece, as the game is won by checkmating the king.\",\n",
        "        'Knight': \"The knight moves in an L-shape: two squares in one direction and then one square perpendicular to that. It can jump over other pieces.\",\n",
        "        'Pawn': \"The pawn moves forward one square, but captures diagonally. On its first move, it can advance two squares.\",\n",
        "        'Queen': \"The queen moves any number of squares in any direction: horizontally, vertically, or diagonally. It is the most powerful piece.\",\n",
        "        'Rook': \"The rook moves any number of squares horizontally or vertically. It is especially powerful on open files and ranks.\"\n",
        "    }\n",
        "\n",
        "    video_urls = {\n",
        "    'Bishop': 'https://www.youtube.com/watch?v=_y3eA21rD1w&list=PL-qLOQ-OEls6ywMwN8sTJ7k7gRd2f5tO4&index=4',\n",
        "    'Knight': 'https://www.youtube.com/watch?v=VGoT8FR0O_8&list=PL-qLOQ-OEls6ywMwN8sTJ7k7gRd2f5tO4&index=5',\n",
        "    'Pawn': 'https://www.youtube.com/watch?v=00uUlbcPz5E&list=PL-qLOQ-OEls6ywMwN8sTJ7k7gRd2f5tO4&index=6',\n",
        "    'Queen': 'https://www.youtube.com/watch?v=vwgwI0wnULU&list=PL-qLOQ-OEls6ywMwN8sTJ7k7gRd2f5tO4&index=2',\n",
        "    'Rook': 'https://www.youtube.com/watch?v=PlgnoYqsK-8&list=PL-qLOQ-OEls6ywMwN8sTJ7k7gRd2f5tO4&index=3'\n",
        "}\n",
        "\n",
        "\n",
        "    #Displaying the results\n",
        "    st.sidebar.title(\"Results\")\n",
        "    string = \"Detected Piece: \" + class_names[np.argmax(predictions)]\n",
        "    st.sidebar.info(string)\n",
        "\n",
        "\n",
        "    detected_piece = class_names[np.argmax(predictions)]\n",
        "\n",
        "    st.sidebar.markdown(f\"# Information about {detected_piece}\")\n",
        "    st.sidebar.info(info[detected_piece])\n",
        "    st.sidebar.write(\"\")\n",
        "\n",
        "    #chess pieces videos\n",
        "    if class_names[np.argmax(predictions)] == 'King':\n",
        "        king_url = 'https://youtu.be/ZWjDKiHBvZo?list=PL-qLOQ-OEls6ywMwN8sTJ7k7gRd2f5tO4&t=27'\n",
        "        st.sidebar.video(king_url,start_time=27, loop=True, autoplay=True, muted=False)\n",
        "\n",
        "    else:\n",
        "        st.sidebar.video(video_urls[detected_piece], loop=True, autoplay=True, muted=False)"
      ],
      "metadata": {
        "id": "tGiUH7qurneD"
      },
      "execution_count": null,
      "outputs": []
    },
    {
      "cell_type": "markdown",
      "source": [
        "# **References**:\n"
      ],
      "metadata": {
        "id": "G3h9IKeM3Qbq"
      }
    },
    {
      "cell_type": "markdown",
      "source": [
        "- https://docs.streamlit.io/develop/api-reference/configuration/st.set_page_config\n",
        "\n",
        "- https://docs.streamlit.io/develop/api-reference/media/st.video\n",
        "- https://docs.streamlit.io/develop/api-reference/caching-and-state/st.cache_resource\n",
        "\n",
        "- https://docs.streamlit.io/develop/api-reference/layout/st.sidebar\n",
        "\n",
        "- https://www.youtube.com/watch?v=kXvmqg8hc70&t=247s\n",
        "\n",
        "- https://discuss.streamlit.io/t/custom-css-for-sidebar-transparent-background-glitches/52670/3\n",
        "\n",
        "- https://blog.streamlit.io/deep-learning-apps-for-image-processing-made-easy-a-step-by-step-guide/\n",
        "\n",
        "- https://docs.streamlit.io/develop/api-reference/widgets/st.file_uploader\n",
        "\n"
      ],
      "metadata": {
        "id": "xYuZKP6o3V3W"
      }
    },
    {
      "cell_type": "code",
      "source": [],
      "metadata": {
        "id": "aCRJvmgw3jle"
      },
      "execution_count": null,
      "outputs": []
    }
  ]
}